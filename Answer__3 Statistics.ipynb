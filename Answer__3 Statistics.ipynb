{
 "cells": [
  {
   "cell_type": "markdown",
   "id": "5c9cb7a3",
   "metadata": {},
   "source": [
    "Q-3. Consider the ‘Blood Pressure Before’ and ‘Blood Pressure After’ columns from the\n",
    "data and calculate the following\n",
    "\n",
    "https://drive.google.com/file/d/1mCjtYHiX--mMUjicuaP2gH3k-SnFxt8Y/view?usp=share_\n",
    "a. Measure the dispersion in both and interpret the results.\n",
    "b. Calculate mean and 5% confidence interval and plot it in a graph\n",
    "c. Calculate the Mean absolute deviation and Standard deviation and interpret\n",
    "the results.\n",
    "d. Calculate the correlation coefficient and check the significance of it at 1% level\n",
    "of significance."
   ]
  },
  {
   "cell_type": "code",
   "execution_count": 13,
   "id": "9c513643",
   "metadata": {},
   "outputs": [],
   "source": [
    "import pandas as pd\n",
    "import matplotlib.pyplot as plt\n",
    "import numpy as np\n",
    "from scipy.stats import t\n",
    "from scipy import stats"
   ]
  },
  {
   "cell_type": "code",
   "execution_count": 14,
   "id": "c1fbe383",
   "metadata": {},
   "outputs": [],
   "source": [
    "# Load the data\n",
    "data = pd.read_csv('data.csv')"
   ]
  },
  {
   "cell_type": "code",
   "execution_count": 15,
   "id": "3efc0711",
   "metadata": {},
   "outputs": [
    {
     "data": {
      "text/plain": [
       "Index(['Patient ID', ' Blood Pressure Before (mmHg)',\n",
       "       ' Blood Pressure After (mmHg)'],\n",
       "      dtype='object')"
      ]
     },
     "execution_count": 15,
     "metadata": {},
     "output_type": "execute_result"
    }
   ],
   "source": [
    "data.columns"
   ]
  },
  {
   "cell_type": "code",
   "execution_count": 16,
   "id": "d75d7f0a",
   "metadata": {},
   "outputs": [
    {
     "name": "stdout",
     "output_type": "stream",
     "text": [
      "Dispersion in Blood Pressure Before: 43.10189999999998\n",
      "Dispersion in Blood Pressure After: 46.97040000000002\n"
     ]
    }
   ],
   "source": [
    "# a. Calculate dispersion in both columns\n",
    "disp_before = np.var(data[' Blood Pressure Before (mmHg)'])\n",
    "disp_after = np.var(data[' Blood Pressure After (mmHg)'])\n",
    "print(f'Dispersion in Blood Pressure Before: {disp_before}')\n",
    "print(f'Dispersion in Blood Pressure After: {disp_after}')"
   ]
  },
  {
   "cell_type": "code",
   "execution_count": 22,
   "id": "9f8d72d2",
   "metadata": {},
   "outputs": [
    {
     "name": "stdout",
     "output_type": "stream",
     "text": [
      "Mean Blood Pressure Before: 133.91, 95% CI: (132.6073211471305, 135.2126788528695)\n",
      "Mean Blood Pressure After: 128.36, 95% CI: (127.00011781341104, 129.719882186589)\n"
     ]
    },
    {
     "data": {
      "image/png": "[encoded data removed]",
      "text/plain": [
       "<Figure size 640x480 with 1 Axes>"
      ]
     },
     "metadata": {},
     "output_type": "display_data"
    }
   ],
   "source": [
    "# b. Calculate mean and 5% confidence interval and plot it in a graph\n",
    "mean_before = np.mean(data[' Blood Pressure Before (mmHg)'])\n",
    "mean_after = np.mean(data[' Blood Pressure After (mmHg)'])\n",
    "n = len(data)\n",
    "se_before = np.std(data[' Blood Pressure Before (mmHg)']) / np.sqrt(n)\n",
    "se_after = np.std(data[' Blood Pressure After (mmHg)']) / np.sqrt(n)\n",
    "t_value = t.ppf(0.975, n-1)\n",
    "ci_before = (mean_before - t_value*se_before, mean_before + t_value*se_before)\n",
    "ci_after = (mean_after - t_value*se_after, mean_after + t_value*se_after)\n",
    "print(f'Mean Blood Pressure Before: {mean_before}, 95% CI: {ci_before}')\n",
    "print(f'Mean Blood Pressure After: {mean_after}, 95% CI: {ci_after}')\n",
    "\n",
    "# Plot the means and confidence intervals\n",
    "plt.bar(['Before', 'After'], [mean_before, mean_after], yerr=[t_value*se_before, t_value*se_after], capsize=10)\n",
    "plt.show()\n"
   ]
  },
  {
   "cell_type": "code",
   "execution_count": 23,
   "id": "5e529e14",
   "metadata": {},
   "outputs": [
    {
     "name": "stdout",
     "output_type": "stream",
     "text": [
      "Mean absolute deviation of Blood Pressure Before: 5.7118\n",
      "Mean absolute deviation of Blood Pressure After: 5.9\n",
      "Standard deviation of Blood Pressure Before: 6.5652037287505385\n",
      "Standard deviation of Blood Pressure After: 6.853495458523338\n",
      "Correlation coefficient: 0.9779485966556027, p-value: 1.8097381433033208e-68\n",
      "The correlation is significant at 1% level.\n"
     ]
    }
   ],
   "source": [
    "# c. Calculate Mean absolute deviation and Standard deviation and interpret the results\n",
    "mad_before = np.mean(np.abs(data[' Blood Pressure Before (mmHg)'] - mean_before))\n",
    "mad_after = np.mean(np.abs(data[' Blood Pressure After (mmHg)'] - mean_after))\n",
    "sd_before = np.std(data[' Blood Pressure Before (mmHg)'])\n",
    "sd_after = np.std(data[' Blood Pressure After (mmHg)'])\n",
    "print(f'Mean absolute deviation of Blood Pressure Before: {mad_before}')\n",
    "print(f'Mean absolute deviation of Blood Pressure After: {mad_after}')\n",
    "print(f'Standard deviation of Blood Pressure Before: {sd_before}')\n",
    "print(f'Standard deviation of Blood Pressure After: {sd_after}')\n",
    "\n"
   ]
  },
  {
   "cell_type": "code",
   "execution_count": 25,
   "id": "d753ed8a",
   "metadata": {},
   "outputs": [
    {
     "name": "stdout",
     "output_type": "stream",
     "text": [
      "Correlation coefficient: 0.9779485966556027, p-value: 1.8097381433033208e-68\n",
      "The correlation is significant at 1% level.\n"
     ]
    }
   ],
   "source": [
    "# d. Calculate correlation coefficient and check significance at 1% level\n",
    "corr_coef, p_val = stats.pearsonr(data[' Blood Pressure Before (mmHg)'], data[' Blood Pressure After (mmHg)'])\n",
    "print(f'Correlation coefficient: {corr_coef}, p-value: {p_val}')\n",
    "if p_val < 0.01:\n",
    "    print('The correlation is significant at 1% level.')\n",
    "else:\n",
    "    print('The correlation is not significant at 1% level.')\n"
   ]
  },
  {
   "cell_type": "code",
   "execution_count": null,
   "id": "c057abec",
   "metadata": {},
   "outputs": [],
   "source": []
  }
 ],
 "metadata": {
  "kernelspec": {
   "display_name": "Python 3 (ipykernel)",
   "language": "python",
   "name": "python3"
  },
  "language_info": {
   "codemirror_mode": {
    "name": "ipython",
    "version": 3
   },
   "file_extension": ".py",
   "mimetype": "text/x-python",
   "name": "python",
   "nbconvert_exporter": "python",
   "pygments_lexer": "ipython3",
   "version": "3.9.13"
  }
 },
 "nbformat": 4,
 "nbformat_minor": 5
}
