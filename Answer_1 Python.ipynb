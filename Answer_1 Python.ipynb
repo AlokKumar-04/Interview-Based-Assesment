{
 "cells": [
  {
   "cell_type": "markdown",
   "id": "2a494696",
   "metadata": {},
   "source": [
    "Question 1: -\n",
    "Write a program that takes a string as input, and counts the frequency of each word in the string, there might\n",
    "be repeated characters in the string. Your task is to find the highest frequency and returns the length of the\n",
    "highest-frequency word.\n",
    "\n",
    "Note - You have to write at least 2 additional test cases in which your program will run successfully and provide\n",
    "an explanation for the same.\n",
    "Example input - string = “write write write all the number from from from 1 to 100”\n",
    "Example output - 5\n",
    "Explanation - From the given string we can note that the most frequent words are “write” and “from” and\n",
    "the maximum value of both the values is “write” and its corresponding length is 5"
   ]
  },
  {
   "cell_type": "code",
   "execution_count": 90,
   "id": "af5530d0",
   "metadata": {},
   "outputs": [],
   "source": [
    "#Q1\n",
    "def highest_frequency(string):\n",
    "    # Split the string into words\n",
    "    words = string.split()\n",
    "    \n",
    "    #Creates a dict to store words\n",
    "    word_frequency = {}\n",
    "    \n",
    "    # Count's frequency of each word\n",
    "    for i in words:\n",
    "        if i in word_frequency:\n",
    "            word_frequency[i] += 1\n",
    "        else:\n",
    "            word_frequency[i] = 1\n",
    "            \n",
    "    #find's the max frequency\n",
    "    max_frequency = max(word_frequency.values())\n",
    "    \n",
    "    #find length\n",
    "    \n",
    "    for i,j in word_frequency.items():\n",
    "        if j == max_frequency:\n",
    "            return len(i) "
   ]
  },
  {
   "cell_type": "code",
   "execution_count": 91,
   "id": "a19d98b3",
   "metadata": {},
   "outputs": [
    {
     "data": {
      "text/plain": [
       "5"
      ]
     },
     "execution_count": 91,
     "metadata": {},
     "output_type": "execute_result"
    }
   ],
   "source": [
    " highest_frequency(\"write write write all the number from from from 1 to 100\" )"
   ]
  },
  {
   "cell_type": "code",
   "execution_count": null,
   "id": "d2984f2e",
   "metadata": {},
   "outputs": [],
   "source": []
  }
 ],
 "metadata": {
  "kernelspec": {
   "display_name": "Python 3 (ipykernel)",
   "language": "python",
   "name": "python3"
  },
  "language_info": {
   "codemirror_mode": {
    "name": "ipython",
    "version": 3
   },
   "file_extension": ".py",
   "mimetype": "text/x-python",
   "name": "python",
   "nbconvert_exporter": "python",
   "pygments_lexer": "ipython3",
   "version": "3.9.13"
  }
 },
 "nbformat": 4,
 "nbformat_minor": 5
}
