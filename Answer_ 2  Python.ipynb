{
 "cells": [
  {
   "cell_type": "markdown",
   "id": "2ded7f51",
   "metadata": {},
   "source": [
    "Question 2: - Consider a string to be valid if all characters of the string appear the same number of times. It is also valid if he can remove just one character at the index in the string, and the remaining characters will occur the same number of times. Given a string, determine if it is valid. If so, return YES , otherwise return NO .\n",
    "\n",
    "Note - You have to write at least 2 additional test cases in which your program will run successfully and provide an explanation for the same. Example input 1 - s = “abc”. This is a valid string because frequencies are { “a”: 1, “b”: 1, “c”: 1 } Example output 1- YES Example input 2 - s “abcc”. This string is not valid as we can remove only 1 occurrence of “c”. That leaves character frequencies of { “a”: 1, “b”: 1 , “c”: 2 } Example output 2 - NO"
   ]
  },
  {
   "cell_type": "code",
   "execution_count": 1,
   "id": "f599a273",
   "metadata": {},
   "outputs": [],
   "source": [
    "#Q2\n",
    "from collections import Counter\n",
    "\n",
    "def valid_string(s):\n",
    "    count_frequency = Counter(s)\n",
    "    \n",
    "    #Find The frequency\n",
    "    frequency = set(count_frequency.values())\n",
    "    \n",
    "    # If all frequencies are the same, the string is valid\n",
    "    if len(frequency) == 1:\n",
    "        return \"Yes\"\n",
    "    \n",
    "    else:\n",
    "        return \"No\""
   ]
  },
  {
   "cell_type": "code",
   "execution_count": 2,
   "id": "dd66777a",
   "metadata": {},
   "outputs": [
    {
     "name": "stdout",
     "output_type": "stream",
     "text": [
      "Yes\n",
      "No\n"
     ]
    }
   ],
   "source": [
    "print(valid_string(\"abc\"))\n",
    "print(valid_string(\"abcc\"))"
   ]
  },
  {
   "cell_type": "code",
   "execution_count": null,
   "id": "b0bd730e",
   "metadata": {},
   "outputs": [],
   "source": []
  }
 ],
 "metadata": {
  "kernelspec": {
   "display_name": "Python 3 (ipykernel)",
   "language": "python",
   "name": "python3"
  },
  "language_info": {
   "codemirror_mode": {
    "name": "ipython",
    "version": 3
   },
   "file_extension": ".py",
   "mimetype": "text/x-python",
   "name": "python",
   "nbconvert_exporter": "python",
   "pygments_lexer": "ipython3",
   "version": "3.9.13"
  }
 },
 "nbformat": 4,
 "nbformat_minor": 5
}
