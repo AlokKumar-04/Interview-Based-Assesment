{
 "cells": [
  {
   "cell_type": "markdown",
   "id": "828c8374",
   "metadata": {},
   "source": [
    "Q-8. The anxiety levels of 10 participants were measured before and after a new therapy.\n",
    "The scores are not normally distributed. Use the Wilcoxon signed-rank test to test whether\n",
    "the therapy had a significant effect on anxiety levels. The data is given below: Participant\n",
    "Before therapy After therapy Difference"
   ]
  },
  {
   "cell_type": "code",
   "execution_count": 4,
   "id": "4cb7d94f",
   "metadata": {},
   "outputs": [],
   "source": [
    "from scipy import stats\n",
    "import pandas as pd\n",
    "from scipy.stats import wilcoxon"
   ]
  },
  {
   "cell_type": "code",
   "execution_count": 5,
   "id": "df3a4175",
   "metadata": {},
   "outputs": [
    {
     "name": "stdout",
     "output_type": "stream",
     "text": [
      "Wilcoxon signed-rank test:\n",
      "Statistic: 0.0\n",
      "P-value: 0.001953125\n"
     ]
    }
   ],
   "source": [
    "# Before therapy scores\n",
    "before_scores = [10, 8, 12, 15,6 , 9, 11, 7, 14, 10]\n",
    "\n",
    "# After therapy scores\n",
    "after_scores = [7, 6, 10, 12, 5, 8, 9, 6, 12, 8]\n",
    "\n",
    "# Calculate the differences between before and after scores\n",
    "differences = [after_scores[i] - before_scores[i] for i in range(len(before_scores))]\n",
    "\n",
    "# Perform the Wilcoxon signed-rank test\n",
    "statistic, p_value = wilcoxon(differences)\n",
    "\n",
    "print(\"Wilcoxon signed-rank test:\")\n",
    "print(f\"Statistic: {statistic}\")\n",
    "print(f\"P-value: {p_value}\")\n"
   ]
  },
  {
   "cell_type": "code",
   "execution_count": null,
   "id": "54ba5690",
   "metadata": {},
   "outputs": [],
   "source": []
  }
 ],
 "metadata": {
  "kernelspec": {
   "display_name": "Python 3 (ipykernel)",
   "language": "python",
   "name": "python3"
  },
  "language_info": {
   "codemirror_mode": {
    "name": "ipython",
    "version": 3
   },
   "file_extension": ".py",
   "mimetype": "text/x-python",
   "name": "python",
   "nbconvert_exporter": "python",
   "pygments_lexer": "ipython3",
   "version": "3.9.13"
  }
 },
 "nbformat": 4,
 "nbformat_minor": 5
}
