{
 "cells": [
  {
   "cell_type": "markdown",
   "id": "588f36af",
   "metadata": {},
   "source": [
    "Question 6 -\n",
    "\n",
    "Using the data from Question 3, write code to analyze the data and answer the following questions Note 1. Draw plots to demonstrate the analysis for the following questions for better visualizations. 2. Write code comments wherever required for code understanding\n",
    "\n",
    "Insights to be drawn - ● Get all Pokemons whose spawn rate is less than 5% ● Get all Pokemons that have less than 4 weaknesses ● Get all Pokemons that have no multipliers at all ● Get all Pokemons that do not have more than 2 evolutions ● Get all Pokemons whose spawn time is less than 300 seconds. Note - spawn time format is \"05:32”, so assume “minute: second” format and perform the analysis. ● Get all Pokemon who have more than two types of capabilities"
   ]
  },
  {
   "cell_type": "markdown",
   "id": "05079783",
   "metadata": {},
   "source": [
    "#Q6\n",
    "\n",
    "As for Question 6, I am unable to perform the task due to the following error: 'Max retries exceeded with url: /Biuni/PokemonGO¶"
   ]
  }
 ],
 "metadata": {
  "kernelspec": {
   "display_name": "Python 3 (ipykernel)",
   "language": "python",
   "name": "python3"
  },
  "language_info": {
   "codemirror_mode": {
    "name": "ipython",
    "version": 3
   },
   "file_extension": ".py",
   "mimetype": "text/x-python",
   "name": "python",
   "nbconvert_exporter": "python",
   "pygments_lexer": "ipython3",
   "version": "3.9.13"
  }
 },
 "nbformat": 4,
 "nbformat_minor": 5
}
