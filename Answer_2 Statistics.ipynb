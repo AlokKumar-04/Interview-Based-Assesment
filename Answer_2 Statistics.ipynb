{
 "cells": [
  {
   "cell_type": "markdown",
   "id": "25bd17dd",
   "metadata": {},
   "source": [
    "Q-2. Consider a dataset containing the heights (in centimeters) of 1000 individuals. The\n",
    "mean height is 170 cm with a standard deviation of 10 cm. The dataset is approximately\n",
    "normally distributed, and its skewness is approximately zero. Based on this information,\n",
    "answer the following questions:\n",
    "\n",
    "\n",
    "a. What percentage of individuals in the dataset have heights between 160 cm\n",
    "and 180 cm?\n",
    "\n",
    "b. If we randomly select 100 individuals from the dataset, what is the probability\n",
    "that their average height is greater than 175 cm?\n",
    "\n",
    "c. Assuming the dataset follows a normal distribution, what is the z-score\n",
    "corresponding to a height of 185 cm?\n",
    "\n",
    "d. We know that 5% of the dataset has heights below a certain value. What is\n",
    "the approximate height corresponding to this threshold?\n",
    "\n",
    "e. Calculate the coefficient of variation (CV) for the dataset.\n",
    "\n",
    "f. Calculate the skewness of the dataset and interpret the result."
   ]
  },
  {
   "cell_type": "markdown",
   "id": "c64c0dcf",
   "metadata": {},
   "source": [
    "a) Ans):\n",
    "     a. To determine the percentage of individuals in the dataset with heights between 160 cm and 180 cm, we can use the properties of the normal distribution.\n",
    "\n",
    "Since the mean height is 170 cm and the standard deviation is 10 cm, we can calculate the z-scores for both heights using the formula: z = (x - μ) / σ, where x is the height, μ is the mean, and σ is the standard deviation.\n",
    "\n",
    "For 160 cm: z1 = (160 - 170) / 10 = -1\n",
    "\n",
    "For 180 cm: z2 = (180 - 170) / 10 = 1\n",
    "\n",
    "Using a standard normal distribution table or a statistical software, we can find the area under the curve between z = -1 and z = 1, which represents the percentage of individuals with heights between 160 cm and 180 cm.\n",
    "\n",
    "The area between z = -1 and z = 1 is approximately 0.6826 or 68.26%. Therefore, approximately 68.26% of individuals in the dataset have heights between 160 cm and 180 cm."
   ]
  },
  {
   "cell_type": "markdown",
   "id": "c298b534",
   "metadata": {},
   "source": [
    "b) Ans):\n",
    "    To calculate the probability that the average height of a randomly selected group of 100 individuals is greater than 175 cm, we can use the Central Limit Theorem. The Central Limit Theorem states that the distribution of sample means approaches a normal distribution with a mean equal to the population mean and a standard deviation equal to the population standard deviation divided by the square root of the sample size.\n",
    "\n",
    "The standard deviation of the sample means is calculated as σ / sqrt(n), where σ is the population standard deviation and n is the sample size.\n",
    "\n",
    "In this case, the population standard deviation is 10 cm, and the sample size is 100.\n",
    "\n",
    "Standard deviation of the sample means = 10 / sqrt(100) = 10 / 10 = 1\n",
    "\n",
    "Now, we can calculate the z-score for a height of 175 cm using the formula: z = (x - μ) / σ, where x is the height, μ is the mean, and σ is the standard deviation.\n",
    "\n",
    "z = (175 - 170) / 1 = 5\n",
    "\n",
    "Using a standard normal distribution table or a statistical software, we can find the area to the right of z = 5, which represents the probability that the average height is greater than 175 cm.\n",
    "\n",
    "The area to the right of z = 5 is very close to 0. Therefore, the probability that the average height of a randomly selected group of 100 individuals is greater than 175 cm is nearly 0."
   ]
  },
  {
   "cell_type": "markdown",
   "id": "c93658ae",
   "metadata": {},
   "source": [
    "c) Ans):\n",
    "    To calculate the z-score corresponding to a height of 185 cm, we can use the formula: z = (x - μ) / σ, where x is the height, μ is the mean, and σ is the standard deviation.\n",
    "\n",
    "z = (185 - 170) / 10 = 15 / 10 = 1.5\n",
    "\n",
    "Therefore, the z-score corresponding to a height of 185 cm is 1.5."
   ]
  },
  {
   "cell_type": "markdown",
   "id": "f9e09c50",
   "metadata": {},
   "source": [
    "d) Ans):\n",
    "    To find the approximate height corresponding to the threshold where 5% of the dataset has heights below that value, we need to find the z-score that corresponds to the 5th percentile.\n",
    "\n",
    "Using a standard normal distribution table or a statistical software, we can find the z-score that corresponds to the 5th percentile. In this case, the z-score is approximately -1.645.\n",
    "\n",
    "Now, we can calculate the height corresponding to this z-score using the formula: x = μ + z * σ, where x is the height, μ is the mean, z is the z-score, and σ is the standard deviation.\n",
    "\n",
    "x = 170 + (-1.645) * 10 = 170 - 16.45 = 153.55"
   ]
  },
  {
   "cell_type": "code",
   "execution_count": 1,
   "id": "c0e454d9",
   "metadata": {},
   "outputs": [],
   "source": [
    "import scipy.stats as stats"
   ]
  },
  {
   "cell_type": "code",
   "execution_count": 2,
   "id": "9e9a06f3",
   "metadata": {},
   "outputs": [
    {
     "name": "stdout",
     "output_type": "stream",
     "text": [
      "Percentage of individuals with heights between 160 cm and 180 cm: 68.27%\n"
     ]
    }
   ],
   "source": [
    "# Given values\n",
    "mean_height = 170\n",
    "std_dev = 10\n",
    "\n",
    "# a. Percentage of individuals with heights between 160 cm and 180 cm\n",
    "z1 = (160 - mean_height) / std_dev\n",
    "z2 = (180 - mean_height) / std_dev\n",
    "percentage_between = stats.norm.cdf(z2) - stats.norm.cdf(z1)\n",
    "percentage_between *= 100\n",
    "\n",
    "print(f\"Percentage of individuals with heights between 160 cm and 180 cm: {percentage_between:.2f}%\")"
   ]
  },
  {
   "cell_type": "code",
   "execution_count": 3,
   "id": "f354e928",
   "metadata": {},
   "outputs": [
    {
     "name": "stdout",
     "output_type": "stream",
     "text": [
      "Probability that the average height of 100 individuals is greater than 175 cm: 0.0000\n"
     ]
    }
   ],
   "source": [
    "# b. Probability that the average height of 100 individuals is greater than 175 cm\n",
    "sample_size = 100\n",
    "sample_mean_std_dev = std_dev / (sample_size ** 0.5)\n",
    "z_score = (175 - mean_height) / sample_mean_std_dev\n",
    "probability_greater = 1 - stats.norm.cdf(z_score)\n",
    "\n",
    "print(f\"Probability that the average height of 100 individuals is greater than 175 cm: {probability_greater:.4f}\")"
   ]
  },
  {
   "cell_type": "code",
   "execution_count": 4,
   "id": "d4928f21",
   "metadata": {},
   "outputs": [
    {
     "name": "stdout",
     "output_type": "stream",
     "text": [
      "Z-score corresponding to a height of 185 cm: 1.50\n"
     ]
    }
   ],
   "source": [
    "# c. Z-score corresponding to a height of 185 cm\n",
    "height = 185\n",
    "z_score = (height - mean_height) / std_dev\n",
    "\n",
    "print(f\"Z-score corresponding to a height of 185 cm: {z_score:.2f}\")"
   ]
  },
  {
   "cell_type": "code",
   "execution_count": 5,
   "id": "ac5c6f54",
   "metadata": {},
   "outputs": [
    {
     "name": "stdout",
     "output_type": "stream",
     "text": [
      "Approximate height corresponding to the 5th percentile: 153.55\n"
     ]
    }
   ],
   "source": [
    "# d. Approximate height corresponding to the threshold where 5% of the dataset has heights below that value\n",
    "percentile = 0.05\n",
    "threshold = stats.norm.ppf(percentile, mean_height, std_dev)\n",
    "\n",
    "print(f\"Approximate height corresponding to the 5th percentile: {threshold:.2f}\")"
   ]
  },
  {
   "cell_type": "code",
   "execution_count": 6,
   "id": "8c3ba68b",
   "metadata": {},
   "outputs": [
    {
     "name": "stdout",
     "output_type": "stream",
     "text": [
      "Coefficient of variation (CV) for the dataset: 5.88%\n"
     ]
    }
   ],
   "source": [
    "# e. Coefficient of variation (CV) for the dataset\n",
    "cv = (std_dev / mean_height) * 100\n",
    "\n",
    "print(f\"Coefficient of variation (CV) for the dataset: {cv:.2f}%\")"
   ]
  },
  {
   "cell_type": "code",
   "execution_count": 7,
   "id": "16699e1c",
   "metadata": {},
   "outputs": [
    {
     "name": "stdout",
     "output_type": "stream",
     "text": [
      "Skewness of the dataset: 0\n"
     ]
    }
   ],
   "source": [
    "# f. Skewness of the dataset\n",
    "skewness = 0  # Given that the skewness is approximately zero for the dataset\n",
    "\n",
    "print(f\"Skewness of the dataset: {skewness}\")"
   ]
  },
  {
   "cell_type": "code",
   "execution_count": null,
   "id": "84a5035b",
   "metadata": {},
   "outputs": [],
   "source": []
  }
 ],
 "metadata": {
  "kernelspec": {
   "display_name": "Python 3 (ipykernel)",
   "language": "python",
   "name": "python3"
  },
  "language_info": {
   "codemirror_mode": {
    "name": "ipython",
    "version": 3
   },
   "file_extension": ".py",
   "mimetype": "text/x-python",
   "name": "python",
   "nbconvert_exporter": "python",
   "pygments_lexer": "ipython3",
   "version": "3.9.13"
  }
 },
 "nbformat": 4,
 "nbformat_minor": 5
}
